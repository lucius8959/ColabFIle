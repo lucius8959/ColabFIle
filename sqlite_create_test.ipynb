{
  "nbformat": 4,
  "nbformat_minor": 0,
  "metadata": {
    "colab": {
      "name": "sqlite_create_test.ipynb",
      "provenance": [],
      "mount_file_id": "1c_cnoPitqqtGI-vZp7JrBGwUDAX6O7Wd",
      "authorship_tag": "ABX9TyORkWnxXaviwAUaWc4UhHZA",
      "include_colab_link": true
    },
    "kernelspec": {
      "name": "python3",
      "display_name": "Python 3"
    }
  },
  "cells": [
    {
      "cell_type": "markdown",
      "metadata": {
        "id": "view-in-github",
        "colab_type": "text"
      },
      "source": [
        "<a href=\"https://colab.research.google.com/github/lucius8959/ColabFile/blob/master/sqlite_create_test.ipynb\" target=\"_parent\"><img src=\"https://colab.research.google.com/assets/colab-badge.svg\" alt=\"Open In Colab\"/></a>"
      ]
    },
    {
      "cell_type": "code",
      "metadata": {
        "id": "oUrANQlU-VKt",
        "colab_type": "code",
        "colab": {}
      },
      "source": [
        "import os, sqlite3"
      ],
      "execution_count": 0,
      "outputs": []
    },
    {
      "cell_type": "code",
      "metadata": {
        "id": "kDXipXS2-kyy",
        "colab_type": "code",
        "colab": {}
      },
      "source": [
        "from sqlite3 import Error"
      ],
      "execution_count": 0,
      "outputs": []
    },
    {
      "cell_type": "code",
      "metadata": {
        "id": "ynLgxnmcAFaA",
        "colab_type": "code",
        "colab": {
          "base_uri": "https://localhost:8080/",
          "height": 128
        },
        "outputId": "b63508ad-db2a-4723-df02-45099aab4700"
      },
      "source": [
        "from google.colab import drive\n",
        "drive.mount('/content/gdrive')\n",
        "colabdata = 'ColabData'\n",
        "path = F\"/content/gdrive/My Drive/{colabdata}\""
      ],
      "execution_count": 5,
      "outputs": [
        {
          "output_type": "stream",
          "text": [
            "Go to this URL in a browser: https://accounts.google.com/o/oauth2/auth?client_id=947318989803-6bn6qk8qdgf4n4g3pfee6491hc0brc4i.apps.googleusercontent.com&redirect_uri=urn%3aietf%3awg%3aoauth%3a2.0%3aoob&response_type=code&scope=email%20https%3a%2f%2fwww.googleapis.com%2fauth%2fdocs.test%20https%3a%2f%2fwww.googleapis.com%2fauth%2fdrive%20https%3a%2f%2fwww.googleapis.com%2fauth%2fdrive.photos.readonly%20https%3a%2f%2fwww.googleapis.com%2fauth%2fpeopleapi.readonly\n",
            "\n",
            "Enter your authorization code:\n",
            "··········\n",
            "Mounted at /content/gdrive\n"
          ],
          "name": "stdout"
        }
      ]
    },
    {
      "cell_type": "code",
      "metadata": {
        "id": "4y9d4tdk-78T",
        "colab_type": "code",
        "colab": {}
      },
      "source": [
        "def create_conn(db_file):\n",
        "  # create a database connection to a SQLite database\n",
        "  conn = None\n",
        "  try:\n",
        "    conn = sqlite3.connect(db_file)\n",
        "    print(sqlite3.version)\n",
        "  except Error as e:\n",
        "    print(e)\n",
        "  finally:\n",
        "    if conn:\n",
        "      conn.close()\n"
      ],
      "execution_count": 0,
      "outputs": []
    },
    {
      "cell_type": "code",
      "metadata": {
        "id": "hjjE7DUh_mti",
        "colab_type": "code",
        "colab": {
          "base_uri": "https://localhost:8080/",
          "height": 54
        },
        "outputId": "4f7b64c3-a6fb-4895-83d2-0febedf82c64"
      },
      "source": [
        "if __name__ == '__main__':\n",
        "  create_conn(path+\"/\"+\"sqlite_create_test.db\")"
      ],
      "execution_count": 10,
      "outputs": [
        {
          "output_type": "stream",
          "text": [
            "2.6.0\n",
            "(2, 6, 0)\n"
          ],
          "name": "stdout"
        }
      ]
    }
  ]
}