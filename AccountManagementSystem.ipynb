{
  "nbformat": 4,
  "nbformat_minor": 0,
  "metadata": {
    "colab": {
      "name": "AccountManagementSystem.ipynb",
      "provenance": [],
      "collapsed_sections": [],
      "authorship_tag": "ABX9TyNDyfKKXtrglYVa4uloXYfW",
      "include_colab_link": true
    },
    "kernelspec": {
      "name": "python3",
      "display_name": "Python 3"
    }
  },
  "cells": [
    {
      "cell_type": "markdown",
      "metadata": {
        "id": "view-in-github",
        "colab_type": "text"
      },
      "source": [
        "<a href=\"https://colab.research.google.com/github/lucius8959/ColabFile/blob/master/AccountManagementSystem.ipynb\" target=\"_parent\"><img src=\"https://colab.research.google.com/assets/colab-badge.svg\" alt=\"Open In Colab\"/></a>"
      ]
    },
    {
      "cell_type": "code",
      "metadata": {
        "id": "rfi9em8mAah9",
        "colab_type": "code",
        "colab": {
          "base_uri": "https://localhost:8080/",
          "height": 34
        },
        "outputId": "4a77008f-f18c-4f7a-9712-bcfaa638f170"
      },
      "source": [
        "from google.colab import drive\n",
        "drive.mount('/content/gdrive')"
      ],
      "execution_count": 72,
      "outputs": [
        {
          "output_type": "stream",
          "text": [
            "Drive already mounted at /content/gdrive; to attempt to forcibly remount, call drive.mount(\"/content/gdrive\", force_remount=True).\n"
          ],
          "name": "stdout"
        }
      ]
    },
    {
      "cell_type": "code",
      "metadata": {
        "id": "RA1Hm54eBJ5O",
        "colab_type": "code",
        "colab": {
          "base_uri": "https://localhost:8080/",
          "height": 34
        },
        "outputId": "e0a02af2-26ef-4a1b-dbb6-e862f669724d"
      },
      "source": [
        "!ls /content/gdrive/'My Drive'/ColabData\n",
        "colabdata = 'ColabData'\n",
        "path = F\"/content/gdrive/My Drive/{colabdata}\""
      ],
      "execution_count": 73,
      "outputs": [
        {
          "output_type": "stream",
          "text": [
            "testColabReadFile.csv\n"
          ],
          "name": "stdout"
        }
      ]
    },
    {
      "cell_type": "code",
      "metadata": {
        "id": "CGdtKG9wEdSI",
        "colab_type": "code",
        "colab": {}
      },
      "source": [
        "def menu():\n",
        "  os.system(\"cls\")\n",
        "  print(\"帳號、密碼管理系統\")\n",
        "  print(\"------------------------------------\")\n",
        "  print(\"1. 輸入帳號、密碼\")\n",
        "  print(\"2. 顯示帳號、密碼\")\n",
        "  print(\"3. 修  改  密  碼\")\n",
        "  print(\"4. 刪除帳號、密碼\")\n",
        "  print(\"0. 結  束  程  式\")\n",
        "  print(\"------------------------------------\")\n",
        "  "
      ],
      "execution_count": 0,
      "outputs": []
    },
    {
      "cell_type": "code",
      "metadata": {
        "id": "2SMNBM2oaVdD",
        "colab_type": "code",
        "colab": {}
      },
      "source": [
        "def ReadData():\n",
        "  file = \"password.txt\"\n",
        "  if not os.path.exists(file):\n",
        "    f = open(path+\"/\"+'password.txt', \"w\")\n",
        "    f.write('')\n",
        "    f.close\n",
        "  with open(path+\"/\"+'password.txt', 'r',encoding='UTF-8-sig') as f:\n",
        "    filedata = f.read()\n",
        "    if filedata != \"\":\n",
        "      data = ast.literal_eval(filedata)\n",
        "      return data\n",
        "    else: \n",
        "      return dict()"
      ],
      "execution_count": 0,
      "outputs": []
    },
    {
      "cell_type": "code",
      "metadata": {
        "id": "EG8OQaJ9RjcP",
        "colab_type": "code",
        "colab": {}
      },
      "source": [
        "def disp_data():\n",
        "  print(\"帳號\\t密碼\")\n",
        "  print(\"------------------------------------\") \n",
        "  for key in data:\n",
        "    print(\"{}\\t{}\".format(key,data[key]))\n",
        "  input(\"按任意鍵返回主選單\")"
      ],
      "execution_count": 0,
      "outputs": []
    },
    {
      "cell_type": "code",
      "metadata": {
        "id": "2KVpOhSzU8j7",
        "colab_type": "code",
        "colab": {}
      },
      "source": [
        "def input_data():\n",
        "  while True:\n",
        "    name = input(\"請輸入帳號(Enter==>停止輸入)\")\n",
        "    if name==\"\":\n",
        "      break\n",
        "    if name in data:\n",
        "      print(\"{}帳號已經存在！\".format(name))\n",
        "      continue\n",
        "    password=input(\"請輸入密碼\")\n",
        "    data[name]=password\n",
        "    with open(path+\"/\"+'password.txt','w',encoding='UTF-8-sig') as f:\n",
        "      f.write(str(data))\n",
        "    print(\"{}已被儲存完畢\".format(name))"
      ],
      "execution_count": 0,
      "outputs": []
    },
    {
      "cell_type": "code",
      "metadata": {
        "id": "KQYGXeio7xQL",
        "colab_type": "code",
        "colab": {}
      },
      "source": [
        "def edit_data():\n",
        "  while True:\n",
        "    name = input(\"請輸入要修改的帳號(Enter==>停止輸入)\")\n",
        "    if name == \"\":\n",
        "      break\n",
        "    if not name in data:\n",
        "      print(\"{}帳號不存在！\".format(name))\n",
        "      continue\n",
        "    print(\"原來密碼為:{}\".format(data[name]))\n",
        "    password=input(\"請輸入新密碼:\")\n",
        "    data[name] = password\n",
        "    with open(path+\"/\"+'password.txt','w',encoding='UTF-8-sig') as f:\n",
        "      f.write(str(data))\n",
        "      input(\"密碼更改完畢，請按任意鍵返回選單\")\n",
        "      break"
      ],
      "execution_count": 0,
      "outputs": []
    },
    {
      "cell_type": "code",
      "metadata": {
        "id": "rzSjBh3e9PPC",
        "colab_type": "code",
        "colab": {}
      },
      "source": [
        "def delete_data():\n",
        "  while True:\n",
        "    name = input(\"請輸入要刪除的帳號(Enter==>停止輸入)\")\n",
        "    if name==\"\":\n",
        "      break\n",
        "    if not name in data:\n",
        "      print(\"{}帳號不存在！\".format(name))\n",
        "      continue\n",
        "    print(\"確定刪除{}的資料！:\".format(name))\n",
        "    yn = input(\"(Y/N)？\")\n",
        "    if (yn==\"Y\" or yn==\"y\"):\n",
        "      del data[name]\n",
        "      with open(path+\"/\"+'password.txt','w',encoding='UTF-8-sig') as f:\n",
        "        f.write(str(data))\n",
        "        input(\"已刪除完畢，請按任意鍵返回主選單\")\n",
        "        break"
      ],
      "execution_count": 0,
      "outputs": []
    },
    {
      "cell_type": "code",
      "metadata": {
        "id": "ytMdDYALTCJP",
        "colab_type": "code",
        "colab": {
          "base_uri": "https://localhost:8080/",
          "height": 1000
        },
        "outputId": "7fc88434-0f19-4081-fdea-1fab5f23438b"
      },
      "source": [
        "import os, ast\n",
        "data = dict()\n",
        "\n",
        "data = ReadData()\n",
        "while True:\n",
        "  menu()\n",
        "  choice = int(input(\"請輸入您的選擇\"))\n",
        "  print()\n",
        "  if choice == 1:\n",
        "    input_data()\n",
        "  elif choice == 2:\n",
        "    disp_data()\n",
        "  elif choice == 3:\n",
        "    edit_data()\n",
        "  elif choice == 4:\n",
        "    delete_data()\n",
        "  else:\n",
        "    break\n",
        "\n",
        "print(\"程式執行完畢！\")"
      ],
      "execution_count": 80,
      "outputs": [
        {
          "output_type": "stream",
          "text": [
            "帳號、密碼管理系統\n",
            "------------------------------------\n",
            "1. 輸入帳號、密碼\n",
            "2. 顯示帳號、密碼\n",
            "3. 修  改  密  碼\n",
            "4. 刪除帳號、密碼\n",
            "0. 結  束  程  式\n",
            "------------------------------------\n",
            "請輸入您的選擇1\n",
            "\n",
            "請輸入帳號(Enter==>停止輸入)lucifer\n",
            "請輸入密碼hieihiei\n",
            "lucifer已被儲存完畢\n",
            "請輸入帳號(Enter==>停止輸入)lucius8959\n",
            "請輸入密碼ta1uRiE2\n",
            "lucius8959已被儲存完畢\n",
            "請輸入帳號(Enter==>停止輸入)dba\n",
            "請輸入密碼ZAQ@1wsx\n",
            "dba已被儲存完畢\n",
            "請輸入帳號(Enter==>停止輸入)\n",
            "帳號、密碼管理系統\n",
            "------------------------------------\n",
            "1. 輸入帳號、密碼\n",
            "2. 顯示帳號、密碼\n",
            "3. 修  改  密  碼\n",
            "4. 刪除帳號、密碼\n",
            "0. 結  束  程  式\n",
            "------------------------------------\n",
            "請輸入您的選擇2\n",
            "\n",
            "帳號\t密碼\n",
            "------------------------------------\n",
            "lucifer\thieihiei\n",
            "lucius8959\tta1uRiE2\n",
            "dba\tZAQ@1wsx\n",
            "按任意鍵返回主選單3\n",
            "帳號、密碼管理系統\n",
            "------------------------------------\n",
            "1. 輸入帳號、密碼\n",
            "2. 顯示帳號、密碼\n",
            "3. 修  改  密  碼\n",
            "4. 刪除帳號、密碼\n",
            "0. 結  束  程  式\n",
            "------------------------------------\n",
            "請輸入您的選擇3\n",
            "\n",
            "請輸入要修改的帳號(Enter==>停止輸入)lucius8959\n",
            "原來密碼為:ta1uRiE2\n",
            "請輸入新密碼:ZAQ@1wsx\n",
            "密碼更改完畢，請按任意鍵返回選單\n",
            "帳號、密碼管理系統\n",
            "------------------------------------\n",
            "1. 輸入帳號、密碼\n",
            "2. 顯示帳號、密碼\n",
            "3. 修  改  密  碼\n",
            "4. 刪除帳號、密碼\n",
            "0. 結  束  程  式\n",
            "------------------------------------\n",
            "請輸入您的選擇2\n",
            "\n",
            "帳號\t密碼\n",
            "------------------------------------\n",
            "lucifer\thieihiei\n",
            "lucius8959\tZAQ@1wsx\n",
            "dba\tZAQ@1wsx\n",
            "按任意鍵返回主選單\n",
            "帳號、密碼管理系統\n",
            "------------------------------------\n",
            "1. 輸入帳號、密碼\n",
            "2. 顯示帳號、密碼\n",
            "3. 修  改  密  碼\n",
            "4. 刪除帳號、密碼\n",
            "0. 結  束  程  式\n",
            "------------------------------------\n",
            "請輸入您的選擇4\n",
            "\n",
            "請輸入要刪除的帳號(Enter==>停止輸入)lucius8959\n",
            "確定刪除lucius8959的資料！:\n",
            "(Y/N)？Y\n",
            "已刪除完畢，請按任意鍵返回主選單\n",
            "帳號、密碼管理系統\n",
            "------------------------------------\n",
            "1. 輸入帳號、密碼\n",
            "2. 顯示帳號、密碼\n",
            "3. 修  改  密  碼\n",
            "4. 刪除帳號、密碼\n",
            "0. 結  束  程  式\n",
            "------------------------------------\n",
            "請輸入您的選擇2\n",
            "\n",
            "帳號\t密碼\n",
            "------------------------------------\n",
            "lucifer\thieihiei\n",
            "dba\tZAQ@1wsx\n",
            "按任意鍵返回主選單\n",
            "帳號、密碼管理系統\n",
            "------------------------------------\n",
            "1. 輸入帳號、密碼\n",
            "2. 顯示帳號、密碼\n",
            "3. 修  改  密  碼\n",
            "4. 刪除帳號、密碼\n",
            "0. 結  束  程  式\n",
            "------------------------------------\n",
            "請輸入您的選擇0\n",
            "\n",
            "程式執行完畢！\n"
          ],
          "name": "stdout"
        }
      ]
    }
  ]
}