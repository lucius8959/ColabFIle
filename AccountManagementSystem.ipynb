{
  "nbformat": 4,
  "nbformat_minor": 0,
  "metadata": {
    "colab": {
      "name": "AccountManagementSystem.ipynb",
      "provenance": [],
      "collapsed_sections": [],
      "authorship_tag": "ABX9TyOaBhg9riyUDQaNEdpC/xoz",
      "include_colab_link": true
    },
    "kernelspec": {
      "name": "python3",
      "display_name": "Python 3"
    }
  },
  "cells": [
    {
      "cell_type": "markdown",
      "metadata": {
        "id": "view-in-github",
        "colab_type": "text"
      },
      "source": [
        "<a href=\"https://colab.research.google.com/github/lucius8959/ColabFile/blob/master/AccountManagementSystem.ipynb\" target=\"_parent\"><img src=\"https://colab.research.google.com/assets/colab-badge.svg\" alt=\"Open In Colab\"/></a>"
      ]
    },
    {
      "cell_type": "code",
      "metadata": {
        "id": "CGdtKG9wEdSI",
        "colab_type": "code",
        "colab": {}
      },
      "source": [
        "def menu():\n",
        "  os.system(\"cls\")\n",
        "  print(\"帳號、密碼管理系統\")\n",
        "  print(\"------------------------------------\")\n",
        "  print(\"1. 輸入帳號、密碼\")\n",
        "  print(\"2. 顯示帳號、密碼\")\n",
        "  print(\"3. 修  改  密  碼\")\n",
        "  print(\"4. 刪除帳號、密碼\")\n",
        "  print(\"0. 結  束  程  式\")\n",
        "  print(\"------------------------------------\")\n",
        "  "
      ],
      "execution_count": 0,
      "outputs": []
    },
    {
      "cell_type": "code",
      "metadata": {
        "id": "2SMNBM2oaVdD",
        "colab_type": "code",
        "colab": {}
      },
      "source": [
        "def ReadData():\n",
        "  with open('password.txt', 'r',encoding='UTF-8-sig') as f:\n",
        "    filedata = f.read()\n",
        "    if filedata != \"\":\n",
        "      data = ast.literal_eval(filedata)\n",
        "      return data\n",
        "    else: \n",
        "      return dict()"
      ],
      "execution_count": 0,
      "outputs": []
    },
    {
      "cell_type": "code",
      "metadata": {
        "id": "EG8OQaJ9RjcP",
        "colab_type": "code",
        "colab": {}
      },
      "source": [
        "def disp_data():\n",
        "  print(\"帳號\\t密碼\")\n",
        "  print(\"------------------------------------\") \n",
        "  for key in data:\n",
        "    print(\"{}\\t{}\".format(key,data[key]))\n",
        "  input(\"按任意鍵返回主選單\")"
      ],
      "execution_count": 0,
      "outputs": []
    },
    {
      "cell_type": "code",
      "metadata": {
        "id": "2KVpOhSzU8j7",
        "colab_type": "code",
        "colab": {}
      },
      "source": [
        "def input_data():\n",
        "  while True:\n",
        "    name = input(\"請輸入帳號(Enter==>停止輸入)\")\n",
        "    if name==\"\":\n",
        "      break\n",
        "    if name in data:\n",
        "      print(\"{}帳號已經存在！\".format(name))\n",
        "      continue\n",
        "    password=input(\"請輸入密碼\")\n",
        "    data[name]=password\n",
        "    with open('password.txt','w',encoding='UTF-8-sig') as f:\n",
        "      f.write(str(data))\n",
        "    print(\"{}已被儲存完畢\".format(name))"
      ],
      "execution_count": 0,
      "outputs": []
    },
    {
      "cell_type": "code",
      "metadata": {
        "id": "KQYGXeio7xQL",
        "colab_type": "code",
        "colab": {}
      },
      "source": [
        "def edit_data():\n",
        "  while True:\n",
        "    name = input(\"請輸入要修改的帳號(Enter==>停止輸入)\")\n",
        "    if name == \"\":\n",
        "      break\n",
        "    if not name in data:\n",
        "      print(\"{}帳號不存在！\".format(name))\n",
        "      continue\n",
        "    print(\"原來密碼為:{}\".format(data[name]))\n",
        "    password=input(\"請輸入新密碼:\")\n",
        "    data[name] = password\n",
        "    while open('password','w',encoding='UTF-8-sig') as f:\n",
        "      f.write(str(data))\n",
        "      input(\"密碼更改完畢，請按任意鍵返回選單\")\n",
        "      break"
      ],
      "execution_count": 0,
      "outputs": []
    },
    {
      "cell_type": "code",
      "metadata": {
        "id": "ytMdDYALTCJP",
        "colab_type": "code",
        "colab": {}
      },
      "source": [
        "import os, ast\n",
        "data = dict()\n",
        "\n",
        "data = ReadData()\n",
        "while True:\n",
        "  menu()\n",
        "  choice = int(input(\"請輸入您的選擇\"))\n",
        "  print()\n",
        "  if choice == 1:\n",
        "    input_data()\n",
        "  elif choice == 2:\n",
        "    disp_data()\n",
        "  elif choice == 3:\n",
        "    edit_data()\n",
        "  elif choice == 4:\n",
        "    delete_data()\n",
        "  else:\n",
        "    break\n",
        "\n",
        "print(\"程式執行完畢！\")"
      ],
      "execution_count": 0,
      "outputs": []
    }
  ]
}