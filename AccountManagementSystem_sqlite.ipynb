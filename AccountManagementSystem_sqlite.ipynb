{
  "nbformat": 4,
  "nbformat_minor": 0,
  "metadata": {
    "colab": {
      "name": "AccountManagementSystem_sqlite.ipynb",
      "provenance": [],
      "authorship_tag": "ABX9TyPl+FO6ZRDTU6YM77CVP39s",
      "include_colab_link": true
    },
    "kernelspec": {
      "name": "python3",
      "display_name": "Python 3"
    }
  },
  "cells": [
    {
      "cell_type": "markdown",
      "metadata": {
        "id": "view-in-github",
        "colab_type": "text"
      },
      "source": [
        "<a href=\"https://colab.research.google.com/github/lucius8959/ColabFile/blob/master/AccountManagementSystem_sqlite.ipynb\" target=\"_parent\"><img src=\"https://colab.research.google.com/assets/colab-badge.svg\" alt=\"Open In Colab\"/></a>"
      ]
    },
    {
      "cell_type": "code",
      "metadata": {
        "id": "rfi9em8mAah9",
        "colab_type": "code",
        "outputId": "5b59ee13-a8d4-478f-a8b9-5215cdfbd85e",
        "colab": {
          "base_uri": "https://localhost:8080/",
          "height": 34
        }
      },
      "source": [
        "from google.colab import drive\n",
        "drive.mount('/content/gdrive')"
      ],
      "execution_count": 0,
      "outputs": [
        {
          "output_type": "stream",
          "text": [
            "Drive already mounted at /content/gdrive; to attempt to forcibly remount, call drive.mount(\"/content/gdrive\", force_remount=True).\n"
          ],
          "name": "stdout"
        }
      ]
    },
    {
      "cell_type": "code",
      "metadata": {
        "id": "RA1Hm54eBJ5O",
        "colab_type": "code",
        "outputId": "e89a3b44-f92e-493f-e584-6ef872ead291",
        "colab": {
          "base_uri": "https://localhost:8080/",
          "height": 34
        }
      },
      "source": [
        "!ls /content/gdrive/'My Drive'/ColabData\n",
        "colabdata = 'ColabData'\n",
        "path = F\"/content/gdrive/My Drive/{colabdata}\""
      ],
      "execution_count": 0,
      "outputs": [
        {
          "output_type": "stream",
          "text": [
            "password.txt  testColabReadFile.csv  test.sqlite\n"
          ],
          "name": "stdout"
        }
      ]
    },
    {
      "cell_type": "code",
      "metadata": {
        "id": "CGdtKG9wEdSI",
        "colab_type": "code",
        "colab": {}
      },
      "source": [
        "def menu():\n",
        "  os.system(\"cls\")\n",
        "  print(\"帳號、密碼管理系統\")\n",
        "  print(\"------------------------------------\")\n",
        "  print(\"1. 輸入帳號、密碼\")\n",
        "  print(\"2. 顯示帳號、密碼\")\n",
        "  print(\"3. 修  改  密  碼\")\n",
        "  print(\"4. 刪除帳號、密碼\")\n",
        "  print(\"0. 結  束  程  式\")\n",
        "  print(\"------------------------------------\")\n",
        "  "
      ],
      "execution_count": 0,
      "outputs": []
    },
    {
      "cell_type": "code",
      "metadata": {
        "id": "EG8OQaJ9RjcP",
        "colab_type": "code",
        "colab": {}
      },
      "source": [
        "def disp_data():\n",
        "  cursor = conn.execute('select * from password')\n",
        "  print(\"帳號\\t密碼\")\n",
        "  print(\"------------------------------------\") \n",
        "  # for key in data:\n",
        "  for row in cursor:\n",
        "    # print(\"{}\\t{}\".format(key,data[key]))\n",
        "    print(\"{}\\t{}\".format(row[0],row[1]))\n",
        "  input(\"按任意鍵返回主選單\")"
      ],
      "execution_count": 0,
      "outputs": []
    },
    {
      "cell_type": "code",
      "metadata": {
        "id": "2KVpOhSzU8j7",
        "colab_type": "code",
        "colab": {}
      },
      "source": [
        "def input_data():\n",
        "  while True:\n",
        "    name = input(\"請輸入帳號(Enter==>停止輸入)\")\n",
        "    if name==\"\":\n",
        "      break\n",
        "\n",
        "    # add \n",
        "    sqlstr=\"select * from password where name='{}'\".format(name)\n",
        "    cursor = conn.execute(sqlstr)\n",
        "    row = cursor.fetchone()\n",
        "    if not row == None:\n",
        "\n",
        "    # if name in data:\n",
        "      print(\"{}帳號已經存在！\".format(name))\n",
        "      continue\n",
        "    password=input(\"請輸入密碼\")\n",
        "    # data[name]=password\n",
        "\n",
        "    # add\n",
        "    print(\"password:\" + password)\n",
        "    sqlstr=\"insert into password values('{}','{}');\".format(name,passowrd)\n",
        "    \n",
        "    conn.execute(sqlstr)\n",
        "    conn.commit()\n",
        "\n",
        "    # with open(path+\"/\"+'password.txt','w',encoding='UTF-8-sig') as f:\n",
        "      # f.write(str(data))\n",
        "    print(\"{}已被儲存完畢\".format(name))"
      ],
      "execution_count": 0,
      "outputs": []
    },
    {
      "cell_type": "code",
      "metadata": {
        "id": "KQYGXeio7xQL",
        "colab_type": "code",
        "colab": {}
      },
      "source": [
        "def edit_data():\n",
        "  while True:\n",
        "    name = input(\"請輸入要修改的帳號(Enter==>停止輸入)\")\n",
        "    if name == \"\":\n",
        "      break\n",
        "\n",
        "    # add\n",
        "    sqlstr = \"select * from password where name='{}'\".format(name)\n",
        "    cursor = conn.execute(sqlstr)\n",
        "    row = cursor.fetchone()\n",
        "    print(row)\n",
        "    if row==None:\n",
        "\n",
        "    # if not name in data:\n",
        "      print(\"{}帳號不存在！\".format(name))\n",
        "      continue\n",
        "    print(\"原來密碼為:{}\".format(row[1]))\n",
        "    # print(\"原來密碼為:{}\".format(data[name]))\n",
        "    password=input(\"請輸入新密碼:\")\n",
        "\n",
        "    # add\n",
        "    sqlstr = \"update password set pass='{}' where name='{}'\".format(password, name)\n",
        "    conn.execute(sqlstr)\n",
        "    conn.commit()\n",
        "\n",
        "    # data[name] = password\n",
        "    # with open(path+\"/\"+'password.txt','w',encoding='UTF-8-sig') as f:\n",
        "      # f.write(str(data))\n",
        "    input(\"密碼更改完畢，請按任意鍵返回選單\")\n",
        "    break"
      ],
      "execution_count": 0,
      "outputs": []
    },
    {
      "cell_type": "code",
      "metadata": {
        "id": "rzSjBh3e9PPC",
        "colab_type": "code",
        "colab": {}
      },
      "source": [
        "def delete_data():\n",
        "  while True:\n",
        "    name = input(\"請輸入要刪除的帳號(Enter==>停止輸入)\")\n",
        "    if name==\"\":\n",
        "      break\n",
        "\n",
        "    # add\n",
        "    sqlstr = \"select * from password where name='{}'\".format(name)\n",
        "    cursor=conn.execute(sqlstr)\n",
        "    row=cursor.fetchone()\n",
        "    if row==None:\n",
        "\n",
        "    # if not name in data:\n",
        "      print(\"{}帳號不存在！\".format(name))\n",
        "      continue\n",
        "    print(\"確定刪除{}的資料！:\".format(name))\n",
        "    yn = input(\"(Y/N)？\")\n",
        "    if (yn==\"Y\" or yn==\"y\"):\n",
        "\n",
        "      #add\n",
        "      sqlstr = \"delete from password where name = '{}'\".format(name)\n",
        "      conn.execute(sqlstr)\n",
        "      conn.commit()\n",
        "\n",
        "      # del data[name]\n",
        "      # with open(path+\"/\"+'password.txt','w',encoding='UTF-8-sig') as f:\n",
        "        # f.write(str(data))\n",
        "      input(\"已刪除完畢，請按任意鍵返回主選單\")\n",
        "      break"
      ],
      "execution_count": 0,
      "outputs": []
    },
    {
      "cell_type": "code",
      "metadata": {
        "id": "ytMdDYALTCJP",
        "colab_type": "code",
        "outputId": "3788b303-2036-4897-b3bd-19b987a217f3",
        "colab": {
          "base_uri": "https://localhost:8080/",
          "height": 565
        }
      },
      "source": [
        "# import os, ast\n",
        "import os, sqlite3\n",
        "conn = sqlite3.connect(path+\"/\"+'test.sqlite')\n",
        "\n",
        "# data = dict()\n",
        "\n",
        "# data = ReadData()\n",
        "while True:\n",
        "  menu()\n",
        "  choice = int(input(\"請輸入您的選擇\"))\n",
        "  print()\n",
        "  if choice == 1:\n",
        "    input_data()\n",
        "  elif choice == 2:\n",
        "    disp_data()\n",
        "  elif choice == 3:\n",
        "    edit_data()\n",
        "  elif choice == 4:\n",
        "    delete_data()\n",
        "  else:\n",
        "    break\n",
        "\n",
        "conn.close()\n",
        "print(\"程式執行完畢！\")"
      ],
      "execution_count": 0,
      "outputs": [
        {
          "output_type": "stream",
          "text": [
            "帳號、密碼管理系統\n",
            "------------------------------------\n",
            "1. 輸入帳號、密碼\n",
            "2. 顯示帳號、密碼\n",
            "3. 修  改  密  碼\n",
            "4. 刪除帳號、密碼\n",
            "0. 結  束  程  式\n",
            "------------------------------------\n",
            "請輸入您的選擇1\n",
            "\n",
            "請輸入帳號(Enter==>停止輸入)lucifer\n",
            "請輸入密碼hieihiei\n",
            "password:hieihiei\n"
          ],
          "name": "stdout"
        },
        {
          "output_type": "error",
          "ename": "NameError",
          "evalue": "ignored",
          "traceback": [
            "\u001b[0;31m---------------------------------------------------------------------------\u001b[0m",
            "\u001b[0;31mNameError\u001b[0m                                 Traceback (most recent call last)",
            "\u001b[0;32m<ipython-input-47-c9aca06c6dfe>\u001b[0m in \u001b[0;36m<module>\u001b[0;34m()\u001b[0m\n\u001b[1;32m     10\u001b[0m   \u001b[0mprint\u001b[0m\u001b[0;34m(\u001b[0m\u001b[0;34m)\u001b[0m\u001b[0;34m\u001b[0m\u001b[0;34m\u001b[0m\u001b[0m\n\u001b[1;32m     11\u001b[0m   \u001b[0;32mif\u001b[0m \u001b[0mchoice\u001b[0m \u001b[0;34m==\u001b[0m \u001b[0;36m1\u001b[0m\u001b[0;34m:\u001b[0m\u001b[0;34m\u001b[0m\u001b[0;34m\u001b[0m\u001b[0m\n\u001b[0;32m---> 12\u001b[0;31m     \u001b[0minput_data\u001b[0m\u001b[0;34m(\u001b[0m\u001b[0;34m)\u001b[0m\u001b[0;34m\u001b[0m\u001b[0;34m\u001b[0m\u001b[0m\n\u001b[0m\u001b[1;32m     13\u001b[0m   \u001b[0;32melif\u001b[0m \u001b[0mchoice\u001b[0m \u001b[0;34m==\u001b[0m \u001b[0;36m2\u001b[0m\u001b[0;34m:\u001b[0m\u001b[0;34m\u001b[0m\u001b[0;34m\u001b[0m\u001b[0m\n\u001b[1;32m     14\u001b[0m     \u001b[0mdisp_data\u001b[0m\u001b[0;34m(\u001b[0m\u001b[0;34m)\u001b[0m\u001b[0;34m\u001b[0m\u001b[0;34m\u001b[0m\u001b[0m\n",
            "\u001b[0;32m<ipython-input-44-2197eb142a6e>\u001b[0m in \u001b[0;36minput_data\u001b[0;34m()\u001b[0m\n\u001b[1;32m     19\u001b[0m     \u001b[0;31m# add\u001b[0m\u001b[0;34m\u001b[0m\u001b[0;34m\u001b[0m\u001b[0;34m\u001b[0m\u001b[0m\n\u001b[1;32m     20\u001b[0m     \u001b[0mprint\u001b[0m\u001b[0;34m(\u001b[0m\u001b[0;34m\"password:\"\u001b[0m \u001b[0;34m+\u001b[0m \u001b[0mpassword\u001b[0m\u001b[0;34m)\u001b[0m\u001b[0;34m\u001b[0m\u001b[0;34m\u001b[0m\u001b[0m\n\u001b[0;32m---> 21\u001b[0;31m     \u001b[0msqlstr\u001b[0m\u001b[0;34m=\u001b[0m\u001b[0;34m\"insert into password values('{}','{}');\"\u001b[0m\u001b[0;34m.\u001b[0m\u001b[0mformat\u001b[0m\u001b[0;34m(\u001b[0m\u001b[0mname\u001b[0m\u001b[0;34m,\u001b[0m\u001b[0mpassowrd\u001b[0m\u001b[0;34m)\u001b[0m\u001b[0;34m\u001b[0m\u001b[0;34m\u001b[0m\u001b[0m\n\u001b[0m\u001b[1;32m     22\u001b[0m \u001b[0;34m\u001b[0m\u001b[0m\n\u001b[1;32m     23\u001b[0m     \u001b[0mconn\u001b[0m\u001b[0;34m.\u001b[0m\u001b[0mexecute\u001b[0m\u001b[0;34m(\u001b[0m\u001b[0msqlstr\u001b[0m\u001b[0;34m)\u001b[0m\u001b[0;34m\u001b[0m\u001b[0;34m\u001b[0m\u001b[0m\n",
            "\u001b[0;31mNameError\u001b[0m: name 'passowrd' is not defined"
          ]
        }
      ]
    },
    {
      "cell_type": "code",
      "metadata": {
        "id": "2SMNBM2oaVdD",
        "colab_type": "code",
        "colab": {}
      },
      "source": [
        "def ReadData():\n",
        "  file = \"password.txt\"\n",
        "  if not os.path.exists(file):\n",
        "    f = open(path+\"/\"+'password.txt', \"w\")\n",
        "    f.write('')\n",
        "    f.close\n",
        "  with open(path+\"/\"+'password.txt', 'r',encoding='UTF-8-sig') as f:\n",
        "    filedata = f.read()\n",
        "    if filedata != \"\":\n",
        "      data = ast.literal_eval(filedata)\n",
        "      return data\n",
        "    else: \n",
        "      return dict()"
      ],
      "execution_count": 0,
      "outputs": []
    }
  ]
}