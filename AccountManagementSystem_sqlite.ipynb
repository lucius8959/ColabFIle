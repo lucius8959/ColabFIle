{
  "nbformat": 4,
  "nbformat_minor": 0,
  "metadata": {
    "colab": {
      "name": "AccountManagementSystem_sqlite.ipynb",
      "provenance": [],
      "authorship_tag": "ABX9TyMwOnbKylOsAJFY92Gu79gy",
      "include_colab_link": true
    },
    "kernelspec": {
      "name": "python3",
      "display_name": "Python 3"
    }
  },
  "cells": [
    {
      "cell_type": "markdown",
      "metadata": {
        "id": "view-in-github",
        "colab_type": "text"
      },
      "source": [
        "<a href=\"https://colab.research.google.com/github/lucius8959/ColabFile/blob/master/AccountManagementSystem_sqlite.ipynb\" target=\"_parent\"><img src=\"https://colab.research.google.com/assets/colab-badge.svg\" alt=\"Open In Colab\"/></a>"
      ]
    },
    {
      "cell_type": "code",
      "metadata": {
        "id": "rfi9em8mAah9",
        "colab_type": "code",
        "outputId": "0267db5e-5e20-42c4-86fb-bb735a1812a7",
        "colab": {
          "base_uri": "https://localhost:8080/",
          "height": 35
        }
      },
      "source": [
        "from google.colab import drive\n",
        "drive.mount('/content/gdrive')"
      ],
      "execution_count": 43,
      "outputs": [
        {
          "output_type": "stream",
          "text": [
            "Drive already mounted at /content/gdrive; to attempt to forcibly remount, call drive.mount(\"/content/gdrive\", force_remount=True).\n"
          ],
          "name": "stdout"
        }
      ]
    },
    {
      "cell_type": "code",
      "metadata": {
        "id": "RA1Hm54eBJ5O",
        "colab_type": "code",
        "outputId": "09842076-f64d-4c88-c875-fccc7fe2246d",
        "colab": {
          "base_uri": "https://localhost:8080/",
          "height": 35
        }
      },
      "source": [
        "!ls /content/gdrive/'My Drive'/ColabData\n",
        "colabdata = 'ColabData'\n",
        "path = F\"/content/gdrive/My Drive/{colabdata}\"\n",
        "filename=\"test.sqlite\"\n",
        "tablename=\"password\""
      ],
      "execution_count": 44,
      "outputs": [
        {
          "output_type": "stream",
          "text": [
            "password.txt  sqlite_create_test.db  testColabReadFile.csv  test.sqlite\n"
          ],
          "name": "stdout"
        }
      ]
    },
    {
      "cell_type": "code",
      "metadata": {
        "id": "CGdtKG9wEdSI",
        "colab_type": "code",
        "colab": {}
      },
      "source": [
        "def menu():\n",
        "  os.system(\"cls\")\n",
        "  print(\"帳號、密碼管理系統\")\n",
        "  print(\"------------------------------------\")\n",
        "  print(\"1. 輸入帳號、密碼\")\n",
        "  print(\"2. 顯示帳號、密碼\")\n",
        "  print(\"3. 修  改  密  碼\")\n",
        "  print(\"4. 刪除帳號、密碼\")\n",
        "  print(\"0. 結  束  程  式\")\n",
        "  print(\"------------------------------------\")\n",
        "  "
      ],
      "execution_count": 0,
      "outputs": []
    },
    {
      "cell_type": "code",
      "metadata": {
        "id": "WAlLEohzHREc",
        "colab_type": "code",
        "colab": {}
      },
      "source": [
        "def init_db(path, dbfilename):\n",
        "  if os.path.exists(path+\"/\"+dbfilename):\n",
        "    print(path+\"/\"+dbfilename + \"has already existed!\")\n",
        "  else:\n",
        "    try:\n",
        "      conn = sqlite3.connect(path+\"/\"+dbfilename)\n",
        "      sql = 'drop table ' + tablename\n",
        "      conn.cursor().execute(sql)\n",
        "      \n",
        "      sql = 'create table if not exists ' + table_name + ' (id integer, name text, pass text)'\n",
        "      conn.cursor().execute(sql)\n",
        "\n",
        "    except Error as e:\n",
        "      print(e)\n",
        "    finally:\n",
        "      if conn:\n",
        "        conn.close()"
      ],
      "execution_count": 0,
      "outputs": []
    },
    {
      "cell_type": "code",
      "metadata": {
        "id": "EG8OQaJ9RjcP",
        "colab_type": "code",
        "colab": {}
      },
      "source": [
        "def disp_data():\n",
        "  cursor = conn.execute('select * from password')\n",
        "  print(\"帳號\\t密碼\")\n",
        "  print(\"------------------------------------\") \n",
        "  # for key in data:\n",
        "  for row in cursor:\n",
        "    # print(\"{}\\t{}\".format(key,data[key]))\n",
        "    print(\"{}\\t{}\".format(row[0],row[1]))\n",
        "  input(\"按任意鍵返回主選單\")"
      ],
      "execution_count": 0,
      "outputs": []
    },
    {
      "cell_type": "code",
      "metadata": {
        "id": "2KVpOhSzU8j7",
        "colab_type": "code",
        "colab": {}
      },
      "source": [
        "def input_data():\n",
        "  while True:\n",
        "    name = input(\"請輸入帳號(Enter==>停止輸入)\")\n",
        "    if name==\"\":\n",
        "      break\n",
        "\n",
        "    # add \n",
        "    sqlstr=\"select * from password where name='{}'\".format(name)\n",
        "    cursor = conn.execute(sqlstr)\n",
        "    row = cursor.fetchone()\n",
        "    if not row == None:\n",
        "\n",
        "    # if name in data:\n",
        "      print(\"{}帳號已經存在！\".format(name))\n",
        "      continue\n",
        "    password=input(\"請輸入密碼\")\n",
        "    # data[name]=password\n",
        "    print(name,password)\n",
        "\n",
        "    # add\n",
        "    print(\"password:\" + password)\n",
        "    sqlstr = \"insert into password(name, pass) values ('{}','{}');\".format(name, password)\n",
        "    # sqlstr=\"insert into password values('{}','{}');\".format(name,passowrd)\n",
        "    \n",
        "    conn.execute(sqlstr)\n",
        "    conn.commit()\n",
        "\n",
        "    # with open(path+\"/\"+'password.txt','w',encoding='UTF-8-sig') as f:\n",
        "      # f.write(str(data))\n",
        "    print(\"{}已被儲存完畢\".format(name))"
      ],
      "execution_count": 0,
      "outputs": []
    },
    {
      "cell_type": "code",
      "metadata": {
        "id": "KQYGXeio7xQL",
        "colab_type": "code",
        "colab": {}
      },
      "source": [
        "def edit_data():\n",
        "  while True:\n",
        "    name = input(\"請輸入要修改的帳號(Enter==>停止輸入)\")\n",
        "    if name == \"\":\n",
        "      break\n",
        "\n",
        "    # add\n",
        "    sqlstr = \"select * from password where name='{}'\".format(name)\n",
        "    cursor = conn.execute(sqlstr)\n",
        "    row = cursor.fetchone()\n",
        "    print(row)\n",
        "    if row==None:\n",
        "\n",
        "    # if not name in data:\n",
        "      print(\"{}帳號不存在！\".format(name))\n",
        "      continue\n",
        "    print(\"原來密碼為:{}\".format(row[1]))\n",
        "    # print(\"原來密碼為:{}\".format(data[name]))\n",
        "    password=input(\"請輸入新密碼:\")\n",
        "\n",
        "    # add\n",
        "    sqlstr = \"update password set pass='{}' where name='{}'\".format(password, name)\n",
        "    conn.execute(sqlstr)\n",
        "    conn.commit()\n",
        "\n",
        "    # data[name] = password\n",
        "    # with open(path+\"/\"+'password.txt','w',encoding='UTF-8-sig') as f:\n",
        "      # f.write(str(data))\n",
        "    input(\"密碼更改完畢，請按任意鍵返回選單\")\n",
        "    break"
      ],
      "execution_count": 0,
      "outputs": []
    },
    {
      "cell_type": "code",
      "metadata": {
        "id": "rzSjBh3e9PPC",
        "colab_type": "code",
        "colab": {}
      },
      "source": [
        "def delete_data():\n",
        "  while True:\n",
        "    name = input(\"請輸入要刪除的帳號(Enter==>停止輸入)\")\n",
        "    if name==\"\":\n",
        "      break\n",
        "\n",
        "    # add\n",
        "    sqlstr = \"select * from password where name='{}'\".format(name)\n",
        "    cursor=conn.execute(sqlstr)\n",
        "    row=cursor.fetchone()\n",
        "    if row==None:\n",
        "\n",
        "    # if not name in data:\n",
        "      print(\"{}帳號不存在！\".format(name))\n",
        "      continue\n",
        "    print(\"確定刪除{}的資料！:\".format(name))\n",
        "    yn = input(\"(Y/N)？\")\n",
        "    if (yn==\"Y\" or yn==\"y\"):\n",
        "\n",
        "      #add\n",
        "      sqlstr = \"delete from password where name = '{}'\".format(name)\n",
        "      conn.execute(sqlstr)\n",
        "      conn.commit()\n",
        "\n",
        "      # del data[name]\n",
        "      # with open(path+\"/\"+'password.txt','w',encoding='UTF-8-sig') as f:\n",
        "        # f.write(str(data))\n",
        "      input(\"已刪除完畢，請按任意鍵返回主選單\")\n",
        "      break"
      ],
      "execution_count": 0,
      "outputs": []
    },
    {
      "cell_type": "code",
      "metadata": {
        "id": "ytMdDYALTCJP",
        "colab_type": "code",
        "outputId": "5def9623-0fe4-4643-f27a-f97a90ef39dc",
        "colab": {
          "base_uri": "https://localhost:8080/",
          "height": 745
        }
      },
      "source": [
        "# import os, ast\n",
        "import os, sqlite3\n",
        "from sqlite3 import Error\n",
        "\n",
        "init_db(path, filename)\n",
        "\n",
        "conn = sqlite3.connect(path+\"/\"+'test.sqlite')\n",
        "\n",
        "# data = dict()\n",
        "\n",
        "# data = ReadData()\n",
        "while True:\n",
        "  menu()\n",
        "  choice = int(input(\"請輸入您的選擇\"))\n",
        "  print()\n",
        "  if choice == 1:\n",
        "    input_data()\n",
        "  elif choice == 2:\n",
        "    disp_data()\n",
        "  elif choice == 3:\n",
        "    edit_data()\n",
        "  elif choice == 4:\n",
        "    delete_data()\n",
        "  else:\n",
        "    break\n",
        "\n",
        "conn.close()\n",
        "print(\"程式執行完畢！\")\n"
      ],
      "execution_count": 51,
      "outputs": [
        {
          "output_type": "stream",
          "text": [
            "/content/gdrive/My Drive/ColabData/test.sqlitehas already existed!\n",
            "帳號、密碼管理系統\n",
            "------------------------------------\n",
            "1. 輸入帳號、密碼\n",
            "2. 顯示帳號、密碼\n",
            "3. 修  改  密  碼\n",
            "4. 刪除帳號、密碼\n",
            "0. 結  束  程  式\n",
            "------------------------------------\n",
            "請輸入您的選擇1\n",
            "\n",
            "請輸入帳號(Enter==>停止輸入)lucifer\n",
            "lucifer帳號已經存在！\n",
            "請輸入帳號(Enter==>停止輸入)lucius8959\n",
            "請輸入密碼hieihiei\n",
            "lucius8959 hieihiei\n",
            "password:hieihiei\n",
            "lucius8959已被儲存完畢\n",
            "請輸入帳號(Enter==>停止輸入)ted\n",
            "請輸入密碼12345\n",
            "ted 12345\n",
            "password:12345\n",
            "ted已被儲存完畢\n",
            "請輸入帳號(Enter==>停止輸入)2\n",
            "請輸入密碼1234567\n",
            "2 1234567\n",
            "password:1234567\n",
            "2已被儲存完畢\n",
            "請輸入帳號(Enter==>停止輸入)\n",
            "帳號、密碼管理系統\n",
            "------------------------------------\n",
            "1. 輸入帳號、密碼\n",
            "2. 顯示帳號、密碼\n",
            "3. 修  改  密  碼\n",
            "4. 刪除帳號、密碼\n",
            "0. 結  束  程  式\n",
            "------------------------------------\n",
            "請輸入您的選擇0\n",
            "\n",
            "程式執行完畢！\n"
          ],
          "name": "stdout"
        }
      ]
    },
    {
      "cell_type": "code",
      "metadata": {
        "id": "2SMNBM2oaVdD",
        "colab_type": "code",
        "colab": {}
      },
      "source": [
        "def ReadData():\n",
        "  file = \"password.txt\"\n",
        "  if not os.path.exists(file):\n",
        "    f = open(path+\"/\"+'password.txt', \"w\")\n",
        "    f.write('')\n",
        "    f.close\n",
        "  with open(path+\"/\"+'password.txt', 'r',encoding='UTF-8-sig') as f:\n",
        "    filedata = f.read()\n",
        "    if filedata != \"\":\n",
        "      data = ast.literal_eval(filedata)\n",
        "      return data\n",
        "    else: \n",
        "      return dict()"
      ],
      "execution_count": 0,
      "outputs": []
    }
  ]
}