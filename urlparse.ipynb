{
  "nbformat": 4,
  "nbformat_minor": 0,
  "metadata": {
    "colab": {
      "name": "urlparse.ipynb",
      "provenance": [],
      "collapsed_sections": [],
      "authorship_tag": "ABX9TyOPjEg1CuDZusRtmVyjzDPe",
      "include_colab_link": true
    },
    "kernelspec": {
      "name": "python3",
      "display_name": "Python 3"
    }
  },
  "cells": [
    {
      "cell_type": "markdown",
      "metadata": {
        "id": "view-in-github",
        "colab_type": "text"
      },
      "source": [
        "<a href=\"https://colab.research.google.com/github/lucius8959/ColabFile/blob/master/urlparse.ipynb\" target=\"_parent\"><img src=\"https://colab.research.google.com/assets/colab-badge.svg\" alt=\"Open In Colab\"/></a>"
      ]
    },
    {
      "cell_type": "code",
      "metadata": {
        "id": "kATm83M-8vqr",
        "colab_type": "code",
        "colab": {}
      },
      "source": [
        "from urllib.parse import urlparse"
      ],
      "execution_count": 0,
      "outputs": []
    },
    {
      "cell_type": "code",
      "metadata": {
        "id": "4HAUAfu4Cugi",
        "colab_type": "code",
        "colab": {
          "base_uri": "https://localhost:8080/",
          "height": 34
        },
        "outputId": "6683fa28-bd6c-4879-bd43-1478a07fbc17"
      },
      "source": [
        "url = 'http://taqm.epa.gov.tw:80/pm25/tw/PM25A.aspx?area=1'\n",
        "o = urlparse(url)\n",
        "print(o)"
      ],
      "execution_count": 2,
      "outputs": [
        {
          "output_type": "stream",
          "text": [
            "ParseResult(scheme='http', netloc='taqm.epa.gov.tw:80', path='/pm25/tw/PM25A.aspx', params='', query='area=1', fragment='')\n"
          ],
          "name": "stdout"
        }
      ]
    },
    {
      "cell_type": "code",
      "metadata": {
        "id": "CFn-4X-IDFrB",
        "colab_type": "code",
        "colab": {
          "base_uri": "https://localhost:8080/",
          "height": 102
        },
        "outputId": "5114b078-c0ce-4f4c-d649-81dbb2dfde23"
      },
      "source": [
        "print(\"schema{}\".format(o.scheme))\n",
        "print(\"netloc={}\".format(o.netloc))\n",
        "print(\"port={}\".format(o.port))\n",
        "print(\"path={}\".format(o.path))\n",
        "print(\"query={}\".format(o.query))"
      ],
      "execution_count": 3,
      "outputs": [
        {
          "output_type": "stream",
          "text": [
            "schemahttp\n",
            "netloc=taqm.epa.gov.tw:80\n",
            "port=80\n",
            "path=/pm25/tw/PM25A.aspx\n",
            "query=area=1\n"
          ],
          "name": "stdout"
        }
      ]
    }
  ]
}