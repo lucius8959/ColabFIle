{
  "nbformat": 4,
  "nbformat_minor": 0,
  "metadata": {
    "colab": {
      "name": "facebook_token_test.ipynb",
      "provenance": [],
      "authorship_tag": "ABX9TyPxY8h0/fie7N8Tat000gzb",
      "include_colab_link": true
    },
    "kernelspec": {
      "name": "python3",
      "display_name": "Python 3"
    }
  },
  "cells": [
    {
      "cell_type": "markdown",
      "metadata": {
        "id": "view-in-github",
        "colab_type": "text"
      },
      "source": [
        "<a href=\"https://colab.research.google.com/github/lucius8959/ColabFile/blob/master/facebook_token_test.ipynb\" target=\"_parent\"><img src=\"https://colab.research.google.com/assets/colab-badge.svg\" alt=\"Open In Colab\"/></a>"
      ]
    },
    {
      "cell_type": "code",
      "metadata": {
        "id": "q-RNg7T7nITR",
        "colab_type": "code",
        "colab": {
          "base_uri": "https://localhost:8080/",
          "height": 190
        },
        "outputId": "adcdccf8-9269-41ed-b938-8850a043e643"
      },
      "source": [
        "!pip install facebook-sdk"
      ],
      "execution_count": 1,
      "outputs": [
        {
          "output_type": "stream",
          "text": [
            "Collecting facebook-sdk\n",
            "  Downloading https://files.pythonhosted.org/packages/79/d7/4cb0f5930f79205cc45db22e17fa716396d813c3d6b8d5de77783a5fa59a/facebook_sdk-3.1.0-py2.py3-none-any.whl\n",
            "Requirement already satisfied: requests in /usr/local/lib/python3.6/dist-packages (from facebook-sdk) (2.21.0)\n",
            "Requirement already satisfied: chardet<3.1.0,>=3.0.2 in /usr/local/lib/python3.6/dist-packages (from requests->facebook-sdk) (3.0.4)\n",
            "Requirement already satisfied: urllib3<1.25,>=1.21.1 in /usr/local/lib/python3.6/dist-packages (from requests->facebook-sdk) (1.24.3)\n",
            "Requirement already satisfied: certifi>=2017.4.17 in /usr/local/lib/python3.6/dist-packages (from requests->facebook-sdk) (2020.4.5.1)\n",
            "Requirement already satisfied: idna<2.9,>=2.5 in /usr/local/lib/python3.6/dist-packages (from requests->facebook-sdk) (2.8)\n",
            "Installing collected packages: facebook-sdk\n",
            "Successfully installed facebook-sdk-3.1.0\n"
          ],
          "name": "stdout"
        }
      ]
    },
    {
      "cell_type": "code",
      "metadata": {
        "id": "GztQ5JtHnPC-",
        "colab_type": "code",
        "colab": {
          "base_uri": "https://localhost:8080/",
          "height": 88
        },
        "outputId": "3ce8dd39-9c52-4005-e6fa-c00341b6c712"
      },
      "source": [
        "import facebook\n",
        "\n",
        "token=\"EAADadcuHP0wBAPy0oNUdD3r6DKWFcobdMjhLVIjuYu3aXZBo7MZAXmUUo7mWbSu0COji2cddHZCzragrhf1Ndq03mriIukYXBw3PFE4TCkO0QJly705d7XIZByx8ZBgbyZBy903S5lHGmG4Wz8L9t2tjnvE3Ro4hKdVZAiDTSZCsZBSqbskxGcCSuJyTVezSyYo0ZD\"\n",
        "graph = facebook.GraphAPI(access_token=token, version=3.1)\n",
        "post = graph.get_object(id='10213368721891749_10213200447444993')\n",
        "print(post[\"id\"])\n",
        "if 'message' in post:\n",
        "  print(post[\"message\"])\n",
        "else:\n",
        "  print(\"缺少 message 欄位\")"
      ],
      "execution_count": 5,
      "outputs": [
        {
          "output_type": "stream",
          "text": [
            "10213368721891749_10213200447444993\n",
            "當人高高在上，講出來的話或許會被放大，也可能會被曲解，人走得越高，越不容易瞭解底層的想法。此時此刻越應該謹慎謙虛，戒驕戒躁，而不應該口無遮攔，肆意傷害他人。\n",
            "其實，一個人的人品如何，完全能從他對服務員的態度體現出來，因為服務員不能決定他什麼，對他也沒有任何的威脅，此時此刻，沒有他律，如何對人完全是自律，你會發現，高素質的人，一定會尊重那些最基層的工作人員，比如清潔阿姨，比如快遞小哥，比如服務員。\n"
          ],
          "name": "stdout"
        }
      ]
    }
  ]
}